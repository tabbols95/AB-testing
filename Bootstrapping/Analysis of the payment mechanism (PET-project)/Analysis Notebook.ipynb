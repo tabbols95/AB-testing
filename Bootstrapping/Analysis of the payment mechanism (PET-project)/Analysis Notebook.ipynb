{
 "cells": [
  {
   "cell_type": "markdown",
   "metadata": {},
   "source": [
    "### Проект: вариант 2\n",
    "#### Задание 1. A/B-тестирование\n",
    "#### 1.1 Условие\n",
    "Одной из основных задач аналитика в нашей команде является корректное проведение экспериментов. Для этого мы применяем метод A/B–тестирования. В ходе тестирования одной гипотезы целевой группе была предложена новая механика оплаты услуг на сайте, у контрольной группы оставалась базовая механика. В качестве задания Вам необходимо проанализировать итоги эксперимента и сделать вывод, стоит ли запускать новую механику оплаты на всех пользователей.\n",
    "\n",
    "#### 1.2 Входные данные\n",
    "`groups_data` - срез данных с информацией о принадлежности пользователя к контрольной или экспериментальной группе (А - контрольная группа, В - целевая группа).\n",
    "\n",
    "`groups_add_data` - дополнительный срез информации о принадлежности пользователя к контрольной или экспериментальной группе.\n",
    "\n",
    "`active_studs_data` - информация о пользователях, которые зашли на платформу в дни проведения эксперимента.\n",
    "\n",
    "`checks_data` - информация об оплатах пользователей в дни проведения эксперимента.\n",
    "\n",
    "#### 1.3 Вопросы\n",
    "В ходе проведения эксперимента предлагается ответить на следующие вопросы:\n",
    "* На какие метрики необходимо смотреть в ходе анализа и почему?\n",
    "* Имеются ли различия в показателях и с чем они могут быть связаны?\n",
    "* Являются ли различия статистически значимыми?\n",
    "* Стоит ли запускать новую механику на всех пользователей?\n",
    "\n",
    "(Стоит обратить внимание, что данный список вопросов не является обязательным и при своем ответе можно опираться на собственный план).\n",
    "\n",
    "#### 1.4 Требования к ответу\n",
    "* При выполнении тестового задания необходимо использовать язык программирования `Python`.\n",
    "* В файле обязательно должны быть комментарии к тем действиям, которые выполняются с данными.\n",
    "* Файл должен представлять собой законченный отчет с выводами, сделанными в ходе исследования."
   ]
  },
  {
   "cell_type": "code",
   "execution_count": 1,
   "metadata": {},
   "outputs": [],
   "source": [
    "# импортируем библиотеки для работы с данными\n",
    "import pandas as pd\n",
    "import numpy as np\n",
    "\n",
    "# библиотеки для работы с графиками и визуализацией\n",
    "import seaborn as sns\n",
    "import matplotlib.pyplot as plt\n",
    "%matplotlib inline\n",
    "from tqdm.auto import tqdm\n",
    "\n",
    "# статистические пакеты\n",
    "import pingouin as pg\n",
    "from scipy import stats\n",
    "\n",
    "# системные пакеты\n",
    "import warnings\n",
    "warnings.filterwarnings('ignore')"
   ]
  },
  {
   "cell_type": "code",
   "execution_count": 2,
   "metadata": {},
   "outputs": [],
   "source": [
    "# url для скачивания данных с Яндекс.Диск\n",
    "base_url = 'https://getfile.dokpub.com/yandex/get/'\n",
    "\n",
    "# ссылки на данные\n",
    "groups_data_url = 'https://disk.yandex.ru/d/UhyYx41rTt3clQ'\n",
    "groups_add_data_url = 'https://disk.yandex.ru/d/5Kxrz02m3IBUwQ'\n",
    "active_studs_data_url = 'https://disk.yandex.ru/d/Tbs44Bm6H_FwFQ'\n",
    "checks_data_url = 'https://disk.yandex.ru/d/pH1q-VqcxXjsVA'"
   ]
  },
  {
   "cell_type": "code",
   "execution_count": 3,
   "metadata": {},
   "outputs": [
    {
     "name": "stdout",
     "output_type": "stream",
     "text": [
      "CPU times: user 399 ms, sys: 36.9 ms, total: 436 ms\n",
      "Wall time: 2.83 s\n"
     ]
    }
   ],
   "source": [
    "%%time\n",
    "groups_data = pd.read_csv(base_url+groups_data_url, sep=';')\n",
    "groups_add_data = pd.read_csv(base_url+groups_add_data_url)\n",
    "active_studs_data = pd.read_csv(base_url+active_studs_data_url)\n",
    "checks_data = pd.read_csv(base_url+checks_data_url, sep=';')"
   ]
  },
  {
   "cell_type": "markdown",
   "metadata": {},
   "source": [
    "Т.к. имеется два файла с информацией о принадлежности пользователя к тестовой или экспериментальной группе, то для дальнейшего анализа нам необходимо объединить эти файлы.\n",
    "\n",
    "Но, в ходе формирования дополнительной выборки может получиться так, что туда попадут пользователи, которые уже находятся в первоначальной выборке `groups_data`, поэтому проверим эти фреймы на наличие общих пользователей."
   ]
  },
  {
   "cell_type": "code",
   "execution_count": 4,
   "metadata": {},
   "outputs": [
    {
     "name": "stdout",
     "output_type": "stream",
     "text": [
      "Все ОК, наши данные различны.\n"
     ]
    }
   ],
   "source": [
    "''' Merge data\n",
    "Смёрджим данные, используя параметр по умолчанию how=\"inner\".\n",
    "Т.е. в конечный DataFrame попадут только те данные, которые находятся и в исходном и в дополнительном срезе данных.\n",
    "Далее проверим, является ли наш полученный DataFrame пустым.\n",
    "Если да, то все ок и данные различны.\n",
    "Если нет, то выведем информацию, что не все ок.\n",
    "'''\n",
    "\n",
    "if groups_data.merge(groups_add_data, on='id').empty:\n",
    "    print('Все ОК, наши данные различны.')\n",
    "else: print('Данные имеют повторения.')"
   ]
  },
  {
   "cell_type": "markdown",
   "metadata": {},
   "source": [
    "На выходе мы получили сообщение:\n",
    "\n",
    "```md\n",
    "Все ОК, наши данные различны.\n",
    "```\n",
    "\n",
    "Отлично, значит мы можем сделать вывод о том, что наша основная и дополнительная выборка собраны корректно, т.к. не содержат общих пользователей."
   ]
  },
  {
   "cell_type": "code",
   "execution_count": 5,
   "metadata": {},
   "outputs": [
    {
     "name": "stdout",
     "output_type": "stream",
     "text": [
      "Кол-во пользователей в первоначальной выборке: 74576\n"
     ]
    }
   ],
   "source": [
    "# объединяем полученную информацию в один DataFrame\n",
    "gr_data = pd.concat([groups_data, groups_add_data]).reset_index(drop=True)\n",
    "print('Кол-во пользователей в первоначальной выборке:', gr_data.shape[0])"
   ]
  },
  {
   "cell_type": "code",
   "execution_count": 6,
   "metadata": {},
   "outputs": [
    {
     "name": "stdout",
     "output_type": "stream",
     "text": [
      "              id grp\n",
      "74573  201067612   B\n",
      "74574  201067653   B\n",
      "74575  201067659   B\n"
     ]
    }
   ],
   "source": [
    "print(gr_data.tail(3))"
   ]
  },
  {
   "cell_type": "markdown",
   "metadata": {},
   "source": [
    "Отлично, выборка групп пользователей, которые учавствуют в нашем исследовании определена.\n",
    "\n",
    "Далее необходимо соединить наш получившийся `DataFrame` со срезом данных активных пользователей (пользователей, которые принимали участие в нашем эксперименте) и срез данных с информацией о платежах этих пользователей."
   ]
  },
  {
   "cell_type": "code",
   "execution_count": 7,
   "metadata": {},
   "outputs": [],
   "source": [
    "# добавляем информацию об активности пользователя\n",
    "gr_active_data = gr_data.merge(active_studs_data.rename(columns={'student_id': 'id'}),\n",
    "                               how='outer', on='id', indicator=True)"
   ]
  },
  {
   "cell_type": "code",
   "execution_count": 8,
   "metadata": {},
   "outputs": [],
   "source": [
    "# добавляем инфомацию о платежах пользователя\n",
    "gr_active_pay_data = gr_active_data.merge(checks_data.rename(columns={'student_id': 'id'}),\n",
    "                                          how='left', on='id').fillna({'rev': 0})"
   ]
  },
  {
   "cell_type": "code",
   "execution_count": 9,
   "metadata": {},
   "outputs": [
    {
     "data": {
      "text/plain": [
       "left_only     66235\n",
       "both           8341\n",
       "right_only        0\n",
       "Name: _merge, dtype: int64"
      ]
     },
     "execution_count": 9,
     "metadata": {},
     "output_type": "execute_result"
    }
   ],
   "source": [
    "gr_active_pay_data['_merge'].value_counts()"
   ]
  },
  {
   "cell_type": "code",
   "execution_count": 10,
   "metadata": {},
   "outputs": [
    {
     "name": "stdout",
     "output_type": "stream",
     "text": [
      "                        rev\n",
      "_merge     grp             \n",
      "left_only  A     19276.0000\n",
      "           B     86256.0001\n",
      "right_only A            NaN\n",
      "           B            NaN\n",
      "both       A     72820.0000\n",
      "           B    394974.0035\n"
     ]
    }
   ],
   "source": [
    "print(gr_active_pay_data.groupby(['_merge', 'grp']).agg({'rev': np.sum}))"
   ]
  },
  {
   "cell_type": "markdown",
   "metadata": {},
   "source": [
    "При соединении данных с информацией об активных пользователях мы дополнительно добавили параметр `indicator=True`:\n",
    "\n",
    "```python\n",
    "# добавляем информацию об активности пользователя\n",
    "gr_active_data = gr_data.merge(active_studs_data, ..., indicator=True)\n",
    "```\n",
    "\n",
    "Данный индикатор имеет 3 состояния:\n",
    "* `left_only` - данные нашлись только в срезе, прикрепленном слева (далее мы будем таких пользователей называть неактивными).\n",
    "* `both` - данные нашлись в обоих срезах (далее таких пользователей мы будем называть активными).\n",
    "* `right_only` - данные нашлись только в срезе, прикрепленном справа (таких пользователей у нас не существует).\n",
    "\n",
    "По условиям задачи необходимо исследовать новый механизм оплаты. Но в данных мы обнаружили, что _неактивные_ пользователи тоже совершали оплату (причем _неактивные_ пользователи группы А (контрольной группы) совершали оплату с использованием старого механизма).\n",
    "\n",
    "**Что делать с такими пользователями?**\n",
    "```md\n",
    "Таких пользователей мы исключим из нашего исследования.\n",
    "```\n",
    "\n",
    "**Почему?**\n",
    "```md\n",
    "Даже с учетом того, что некоторые _неактивные_ пользователи совершали оплату по старому механизму, за пределами нашего эксперимента на их оплату могли влиять другие факторы, которые мы не можем учесть.\n",
    "```\n",
    "\n",
    "В результате чего, мы оставляем только тех пользователей, которые заходили на платформу во время нашего эксперимента.\n",
    "\n",
    "Если во время эксперимента пользователь не совершал оплаты, то в поле `Revenue` ставим ему значение `0`."
   ]
  },
  {
   "cell_type": "code",
   "execution_count": 11,
   "metadata": {},
   "outputs": [],
   "source": [
    "# оставляем пользователей, посетивших платформу во время эксперимента\n",
    "# удаляем ненужные столбцы\n",
    "res_data = gr_active_pay_data.query('_merge==\"both\"').reset_index(drop=True).drop(columns='_merge')"
   ]
  },
  {
   "cell_type": "code",
   "execution_count": 12,
   "metadata": {},
   "outputs": [
    {
     "name": "stdout",
     "output_type": "stream",
     "text": [
      "     id grp    rev\n",
      "0  1627   A  990.0\n",
      "1  2085   B    0.0\n",
      "2  2215   B    0.0\n"
     ]
    }
   ],
   "source": [
    "print(res_data.head(3))"
   ]
  },
  {
   "cell_type": "code",
   "execution_count": 13,
   "metadata": {},
   "outputs": [
    {
     "name": "stdout",
     "output_type": "stream",
     "text": [
      "grp\n",
      "A    1538\n",
      "B    6803\n",
      "Name: id, dtype: int64\n"
     ]
    }
   ],
   "source": [
    "# посмотрим, сколько наблюдений имеет каждай группа\n",
    "print(res_data.groupby('grp')['id'].nunique())"
   ]
  },
  {
   "cell_type": "markdown",
   "metadata": {},
   "source": [
    "Можно обратить внимание, что группа `В` (экспериментальная группа) содержит значительно больше наблюдений, чем группа `А` (контрольная группа).\n",
    "\n",
    "Настало время выделять основные метрики, по которым мы будем проводить исследование эффективности механики оплаты. Наш массив данных имеет лишь один количественный показатель в явном виде: `Revenue`.\n",
    "\n",
    "Отсюда мы можем посчитать:\n",
    "* `ARPU` (average revenue per user) - средний доход с одного пользователя.\n",
    "* `ARPPU` (average revenue per payment user) - средний доход с одного платящего пользователя.\n",
    "\n",
    "Но т.к. у нас есть группы платящих и неплатящих пользователей, то мы можем также посчитать показатель `CR` (conversion rate), отражающих конверсию в платящего пользователя."
   ]
  },
  {
   "cell_type": "code",
   "execution_count": 14,
   "metadata": {},
   "outputs": [
    {
     "name": "stdout",
     "output_type": "stream",
     "text": [
      "Кол-во наблюдений: 8341\n",
      "Кол-во уникальных пользователей: 8341\n"
     ]
    }
   ],
   "source": [
    "print('Кол-во наблюдений:', res_data.shape[0])\n",
    "print('Кол-во уникальных пользователей:', res_data['id'].nunique())"
   ]
  },
  {
   "cell_type": "markdown",
   "metadata": {},
   "source": [
    "Можем обратить внимание, что в анализируемом массиве данных кол-во наблюдений равняется кол-ву уникальных пользователей, отсюда можно сделать вывод, что каждый пользователей совершает оплату всего один раз за исследуемый период."
   ]
  },
  {
   "cell_type": "code",
   "execution_count": 15,
   "metadata": {},
   "outputs": [],
   "source": [
    "# информация для расчета ARPU\n",
    "res_full_data = res_data.copy().assign(metric='ARPU')\n",
    "# информация для расчета ARPPU\n",
    "res_pay_data = res_data[res_data['rev']!=0].assign(metric='ARPPU')\n",
    "# объединенный массив данных\n",
    "res_metric_data = pd.concat([res_full_data, res_pay_data])"
   ]
  },
  {
   "cell_type": "code",
   "execution_count": 16,
   "metadata": {},
   "outputs": [
    {
     "data": {
      "image/png": "[encoded data removed]",
      "text/plain": [
       "<Figure size 864x360 with 2 Axes>"
      ]
     },
     "metadata": {
      "needs_background": "light"
     },
     "output_type": "display_data"
    }
   ],
   "source": [
    "# посмотрим на boxplot наших групп в разрезе метрик\n",
    "fig, (ax1, ax2) = plt.subplots(1, 2, figsize=(12, 5))\n",
    "sns.boxplot(y='Revenue', x='Groups', data=res_full_data.rename(columns={'grp': 'Groups', 'rev': 'Revenue'}), ax=ax1)\n",
    "ax1.set_title('ARPU')\n",
    "sns.boxplot(y='Revenue', x='Groups', data=res_pay_data.rename(columns={'grp': 'Groups', 'rev': 'Revenue'}), ax=ax2)\n",
    "ax2.set_title('ARPPU')\n",
    "plt.xlabel('Revenue')\n",
    "plt.show()"
   ]
  },
  {
   "cell_type": "code",
   "execution_count": 17,
   "metadata": {},
   "outputs": [
    {
     "data": {
      "image/png": "[encoded data removed]",
      "text/plain": [
       "<Figure size 720x360 with 2 Axes>"
      ]
     },
     "metadata": {
      "needs_background": "light"
     },
     "output_type": "display_data"
    }
   ],
   "source": [
    "# посмотрим на catplot наших групп в разрезе метрик\n",
    "sns.catplot(data=res_metric_data.rename(columns={'grp': 'Groups', 'rev': 'Revenue'}), x='Groups', y='Revenue',\n",
    "            kind='point', capsize=.1, col='metric')\n",
    "plt.show()"
   ]
  },
  {
   "cell_type": "markdown",
   "metadata": {},
   "source": [
    "Визуально можно обратить внимание, что метрика `ARPPU` изменилась в положительную сторону. Про метрику `ARPU` визуально трудно определить что произошло, но можно предположить, что при изменении метрики `ARPPU` в положительную сторону, `ARPU` увеличилась также в положительную сторону.\n",
    "\n",
    "Посчитаем, как изменились наши метрики для тестовой и контрольной групп. Для рассчета метрики `CR` будем использовать формулу:\n",
    "\n",
    "$$\n",
    "CR = \\frac{{User Pay}}{{User Full}}\n",
    "$$\n",
    "\n",
    ", для рассчета метрики `ARPU` будем использовать формулу:\n",
    "\n",
    "$$\n",
    "ARPU = \\frac{Revenue}{{User Full}}\n",
    "$$\n",
    "\n",
    ", для рассчета метрики `ARPPU` будем использовать формулу:\n",
    "\n",
    "$$\n",
    "ARPPU = \\frac{Revenue}{{User Pay}}\n",
    "$$\n",
    "\n",
    ", где ${User Pay}$ - количество платящих пользователей, ${UserFull}$ - общее количество пользователей, $Revenue$ - доход."
   ]
  },
  {
   "cell_type": "code",
   "execution_count": 18,
   "metadata": {},
   "outputs": [
    {
     "name": "stdout",
     "output_type": "stream",
     "text": [
      "Конверсия группы A: 5.072%\n",
      "Конверсия группы B: 4.616%\n",
      "---\n",
      "Изменение конверсии: -0.456% (-8.990%)\n",
      "\n",
      "\n",
      "ARPU группы A: 47.35\n",
      "ARPU группы B: 58.06\n",
      "---\n",
      "Изменение ARPU: 10.71 (22.623%)\n",
      "\n",
      "\n",
      "ARPPU группы A: 933.59.\n",
      "ARPPU группы B: 1257.88\n",
      "---\n",
      "Изменение ARPPU: 324.29 (34.736%)\n"
     ]
    }
   ],
   "source": [
    "# рассчитываем конверсию\n",
    "cr_a = res_data.loc[(res_data['grp']=='A')&(res_data['rev']>0), 'id'].nunique() \\\n",
    "    / res_data.loc[res_data['grp']=='A', 'id'].nunique()\n",
    "cr_b = res_data.loc[(res_data['grp']=='B')&(res_data['rev']>0), 'id'].nunique() \\\n",
    "    / res_data.loc[res_data['grp']=='B', 'id'].nunique()\n",
    "\n",
    "# рассчитываем показатель ARPU\n",
    "arpu_a = res_full_data.loc[res_full_data['grp']=='A', 'rev'].sum() / res_full_data.loc[res_full_data['grp']=='A', 'id'].nunique()\n",
    "arpu_b = res_full_data.loc[res_full_data['grp']=='B', 'rev'].sum() / res_full_data.loc[res_full_data['grp']=='B', 'id'].nunique()\n",
    "\n",
    "# рассчитываем показатель ARPPU\n",
    "arppu_a = res_pay_data.loc[res_pay_data['grp']=='A', 'rev'].sum() / res_pay_data.loc[res_pay_data['grp']=='A', 'id'].nunique()\n",
    "arppu_b = res_pay_data.loc[res_pay_data['grp']=='B', 'rev'].sum() / res_pay_data.loc[res_pay_data['grp']=='B', 'id'].nunique()\n",
    "\n",
    "print('Конверсия группы A: {cr_a:.3%}\\nКонверсия группы B: {cr_b:.3%}'.format(cr_a=cr_a, cr_b=cr_b))\n",
    "print('---') # отсечение вывода\n",
    "print('Изменение конверсии: {diff__cr:.3%} ({diff_cr:.3%})'.format(diff__cr=cr_b-cr_a, diff_cr=(cr_b-cr_a)/cr_a))\n",
    "print('\\n')\n",
    "print('ARPU группы A: {arpu_a:.2f}\\nARPU группы B: {arpu_b:.2f}'.format(arpu_a=arpu_a, arpu_b=arpu_b))\n",
    "print('---') # отсечение вывода\n",
    "print('Изменение ARPU: {diff__:.2f} ({diff_:.3%})'.format(diff__=arpu_b-arpu_a, diff_=(arpu_b-arpu_a)/arpu_a))\n",
    "print('\\n')\n",
    "print('ARPPU группы A: {arppu_a:.2f}.\\nARPPU группы B: {arppu_b:.2f}'.format(arppu_a=arppu_a, arppu_b=arppu_b))\n",
    "print('---') # отсечение вывода\n",
    "print('Изменение ARPPU: {diff__:.2f} ({diff_:.3%})'.format(diff__=arppu_b-arppu_a, diff_=(arppu_b-arppu_a)/arppu_a))"
   ]
  },
  {
   "cell_type": "markdown",
   "metadata": {},
   "source": [
    "Мы видим, что средний чек на одного пользователя и средний чек на одного платящего пользователя увеличились на `10.71 руб.` и на `324.29 руб.` соответственно, при этом конверсия в активного пользователя снизилась на `0.46%`, что является достаточно существенным снижением. Одной из причин может быть:\n",
    "* возникновение ошибки в оплате у какой-то группы пользователей (например, в одном из регионов оплата не проходит, например, MasterCard оплата не проходит или СБП);\n",
    "* изменение механизма оплаты может привести к дополнительным расходам, которые лягут на плечи клиента, в результате чего могут взыматься дополнительные комиссии и пользователи отваливаются из-за этого;\n",
    "\n",
    "Получив такой результат, нам необходимо проверить являются ли полученные изменения статистически значимыми."
   ]
  },
  {
   "cell_type": "code",
   "execution_count": 19,
   "metadata": {},
   "outputs": [
    {
     "data": {
      "image/png": "[encoded data removed]",
      "text/plain": [
       "<Figure size 763.5x360 with 2 Axes>"
      ]
     },
     "metadata": {
      "needs_background": "light"
     },
     "output_type": "display_data"
    }
   ],
   "source": [
    "# посмотрим на распределения наших групп в разрезе метрик\n",
    "sns.displot(x='Revenue', hue='Groups', data=res_metric_data.rename(columns={'grp': 'Groups', 'rev': 'Revenue'}),\n",
    "            bins=30, col='metric')\n",
    "plt.show()"
   ]
  },
  {
   "cell_type": "markdown",
   "metadata": {},
   "source": [
    "По графику наблюдяется явное не нормальное распределение.\n",
    "\n",
    "**Но зачем нам так необходимо нормальное распределение?**\n",
    "\n",
    "```md\n",
    "Нормальное распределение дает нам значительное преимущество. Ведь если наша выборка распределена нормально, то в `95%` случаев она включила бы в себя и среднее всей генеральной совокупности (в соответствии с `ЦПТ`). А значит описывала бы генеральную совокупность с допустимой долей вероятности.\n",
    "```\n",
    "\n",
    "**Можно ли попробовать преобразовать наши данные?**\n",
    "\n",
    "```md\n",
    "Вообще, данные можно преобразовать, например, прологарифмировать показатель `Revenue` но в данных присутствуют значение `0`, логарифм от которого не определен.\n",
    "\n",
    "In[]:\n",
    "np.log(res_metric_data['rev']).head(3)\n",
    "\n",
    "Out[]:\n",
    "0    6.897705\n",
    "1        -inf\n",
    "2        -inf\n",
    "Name: rev, dtype: float64\n",
    "```\n",
    "\n",
    "**Может тест на нормальность покажет что-то хорошее для нас?**\n",
    "\n",
    "Стоит попробовать.\n",
    "\n",
    "При проверке на нормальность рассматривается 2 статистические гипотезы:\n",
    "\n",
    "```md\n",
    "1. Н0 - наше распределение не отлично от нормального.\n",
    "2. Н1 (альтернативная гипотеза) - наше распределение отлично от нормального.\n",
    "```"
   ]
  },
  {
   "cell_type": "code",
   "execution_count": 20,
   "metadata": {},
   "outputs": [
    {
     "name": "stdout",
     "output_type": "stream",
     "text": [
      "Метод Шапиро-Вилка (ARPU):\n",
      "          W  pval  normal\n",
      "A  0.154167   0.0   False\n",
      "B  0.181245   0.0   False\n",
      "\n",
      "\n",
      "Метод Шапиро-Вилка (ARPPU):\n",
      "          W          pval  normal\n",
      "A  0.735324  1.498682e-10   False\n",
      "B  0.854724  1.543702e-16   False\n"
     ]
    }
   ],
   "source": [
    "# Проверим наши данные на нормальность\n",
    "print(\n",
    "    'Метод Шапиро-Вилка (ARPU):',\n",
    "    pg.normality(data=res_full_data, dv='rev', group='grp'),\n",
    "    sep='\\n'\n",
    ")\n",
    "\n",
    "print('\\n')\n",
    "\n",
    "print(\n",
    "    'Метод Шапиро-Вилка (ARPPU):',\n",
    "    pg.normality(data=res_pay_data, dv='rev', group='grp'),\n",
    "    sep='\\n'\n",
    ")"
   ]
  },
  {
   "cell_type": "code",
   "execution_count": 21,
   "metadata": {},
   "outputs": [
    {
     "name": "stdout",
     "output_type": "stream",
     "text": [
      "Комплексный тест на нормальность (ARPU):\n",
      "             W  pval  normal\n",
      "A  2240.595797   0.0   False\n",
      "B  7797.399212   0.0   False\n",
      "\n",
      "\n",
      "Комплексный тест на нормальность (ARPPU):\n",
      "           W          pval  normal\n",
      "A  30.378420  2.531687e-07   False\n",
      "B   6.795663  3.344572e-02   False\n"
     ]
    }
   ],
   "source": [
    "print(\n",
    "    'Комплексный тест на нормальность (ARPU):',\n",
    "    pg.normality(data=res_full_data, dv='rev', group='grp', method='normaltest'),\n",
    "    sep='\\n'\n",
    ")\n",
    "\n",
    "print('\\n')\n",
    "\n",
    "print(\n",
    "    'Комплексный тест на нормальность (ARPPU):',\n",
    "    pg.normality(data=res_pay_data, dv='rev', group='grp', method='normaltest'),\n",
    "    sep='\\n'\n",
    ")"
   ]
  },
  {
   "cell_type": "markdown",
   "metadata": {},
   "source": [
    "Статистические тесты также показывают, вероятность получить распределение близко к нормальному крайне мала, в результате чего нулевая гипотеза отвергается в пользу альтернативной."
   ]
  },
  {
   "cell_type": "markdown",
   "metadata": {},
   "source": [
    "Чтобы проверить статистическую значимость наших различий в выборках, можно воспользоваться либо параметрическим тестом `t-критерий Стъюдента`, либо непараметрическим `U-критерием Манна Уитни`. Но для применения `t-критерия` необходимо, чтобы выборочные средние имели нормальное распределение. При маленьких выборках (в нашем случае) это означает требование нормальности исходных данных. А как мы выяснили ранее, что у нас недостаточно оснований считать распределение нормальным.\n",
    "\n",
    "Можем воспользоваться `U-критерием Манна Уитни`.\n",
    "\n",
    "В данном случае у нас также будет проверяться 2-е гипотезы:\n",
    "\n",
    "```md\n",
    "1. H0 (нулевая гипотеза) - наши группы не имеют значимых различий.\n",
    "2. H1 (альтернативная гипотеза) - наши группы имеют значимые различия.\n",
    "```"
   ]
  },
  {
   "cell_type": "code",
   "execution_count": 22,
   "metadata": {},
   "outputs": [
    {
     "name": "stdout",
     "output_type": "stream",
     "text": [
      "U-test Mann Whitney (ARPU):\n",
      "         U-val alternative     p-val       RBC      CLES\n",
      "MWU  5210901.0   two-sided  0.509975  0.003939  0.498031\n",
      "\n",
      "\n",
      "U-test Mann Whitney (ARPPU):\n",
      "       U-val alternative     p-val       RBC      CLES\n",
      "MWU  15491.0   two-sided  0.000251 -0.264984  0.632492\n"
     ]
    }
   ],
   "source": [
    "# ARPU Mann-Whithey\n",
    "print(\n",
    "    'U-test Mann Whitney (ARPU):',\n",
    "    pg.mwu(x=res_full_data.loc[res_full_data['grp']=='B', 'rev'], y=res_full_data.loc[res_full_data['grp']=='A', 'rev']),\n",
    "    sep='\\n'\n",
    ")\n",
    "\n",
    "print('\\n')\n",
    "\n",
    "print(\n",
    "    'U-test Mann Whitney (ARPPU):',\n",
    "    pg.mwu(x=res_pay_data.loc[res_pay_data['grp']=='B', 'rev'], y=res_pay_data.loc[res_pay_data['grp']=='A', 'rev']),\n",
    "    sep='\\n'\n",
    ")"
   ]
  },
  {
   "cell_type": "markdown",
   "metadata": {},
   "source": [
    "Тест Манна Уитни показал, что для метрики `ARPU` мы **НЕ** получили статистически значимое изменение, а для метрики `ARPPU` - получили статистически значимое изменение.\n",
    "\n",
    "**Почему так получается?**\n",
    "```md\n",
    "Все дело в том, что в нашей выборке достаточно большое количество студентов, которые не производили оплату в ходе эксперимента. Поэтому большому количеству показателей присваиваются одинаковые ранги. В результате чего для метрики `ARPU` нельзя говорить о значимых различий.\n",
    "\n",
    "-- кол-во наблюдений не производивших оплату\n",
    "In[]: res_metric_data.loc[res_metric_data['rev']==0].groupby(['metric', 'grp'])['id'].nunique()\n",
    "\n",
    "Out[]: metric  grp\n",
    "       ARPU    A      1460\n",
    "               B      6489\n",
    "       Name: id, dtype: int64\n",
    "       \n",
    "-- кол-во всех наблюдений в разрезе метрик и групп\n",
    "In[]: res_metric_data.groupby(['metric', 'grp'])['id'].nunique()\n",
    "\n",
    "Out[]: metric  grp\n",
    "       ARPPU   A        78\n",
    "               B       314\n",
    "       ARPU    A      1538\n",
    "               B      6803\n",
    "       Name: id, dtype: int64\n",
    "```\n",
    "\n",
    "Т.к. большое кол-во пользователей имеют одинаковые значения, то это может негативно сказаться на статистической значимости даннного показателя.\n",
    "\n",
    "Наиболее эффективный метод проверки в данном случае является `Bootstrapping` [например, ссылка на Википедию](https://en.wikipedia.org/wiki/Bootstrapping_(statistics) \"Нажми, у тебя все получится\").\n",
    "\n",
    "Если коротко о главном, то:\n",
    "1. Из каждой выборки группы A и B мы формируем подвыборку. Причем, делаем это таким образом, что после каждого взятого элемента, мы возвращаем его обратно в выборку.\n",
    "2. Находим разность статистик наших подвыборок (статистика - это `numpy.mean`, `numpy.median`, `numpy.quantile` и т.д.).\n",
    "3. Повторяем Шаг 1 и Шаг 2 несколько раз (в нашем примере ниже мы производим `1000 итераций`).\n",
    "4. Затем смотрим, если в доверительный интервал с определенным уровнем значимости (в нашем примере ниже - это `95%`) распределения из разности наших статистик попадает `0`, то наши результаты получаются статистически не значимыми, т.е. у нас недостаточно оснований говорить о различиях в наших группах."
   ]
  },
  {
   "cell_type": "code",
   "execution_count": 23,
   "metadata": {},
   "outputs": [],
   "source": [
    "def get_bootstrap(\n",
    "    data1, # данные 1-ой выборки\n",
    "    data2, # данные 2-ой выборки\n",
    "    boot_it = 1000, # количество подвыборок для оценки\n",
    "    statistic = np.mean, # статистика\n",
    "    confidence_level = .95, # уровень значимости\n",
    "    metric = '' # наименование метрики\n",
    "):\n",
    "    boot_data = []\n",
    "    data1_rev = data1['rev']\n",
    "    data2_rev = data2['rev']\n",
    "    boot_len = max([data1.shape[0], data2.shape[0]])\n",
    "    \n",
    "    for i in tqdm(range(boot_it)):\n",
    "        # извлекаем подвыборки из наших выборок\n",
    "        samples1 = data1_rev.sample(boot_len, replace=True).values\n",
    "        samples2 = data2_rev.sample(boot_len, replace=True).values\n",
    "        \n",
    "        # находим разность между статистиками\n",
    "        boot_data.append(statistic(samples1)-statistic(samples2))\n",
    "        \n",
    "    data_boot_res = pd.Series(boot_data)\n",
    "    \n",
    "    # находим левый и правый квантили (границу отсечения)\n",
    "    conf_level_l = (1-confidence_level)/2\n",
    "    conf_level_r = 1-(1-confidence_level)/2\n",
    "    lq, rq = data_boot_res.quantile([conf_level_l, conf_level_r]).values\n",
    "    \n",
    "    p_1 = stats.norm.cdf(\n",
    "        x=0,\n",
    "        loc=np.mean(boot_data),\n",
    "        scale=np.std(boot_data)\n",
    "    )\n",
    "    \n",
    "    p_2 = stats.norm.cdf(\n",
    "        x=0,\n",
    "        loc=-np.mean(boot_data),\n",
    "        scale=np.std(boot_data)\n",
    "    )\n",
    "    \n",
    "    p_value = min(p_1, p_2) * 2\n",
    "    \n",
    "    # визуализация результатов bootstrap анализа\n",
    "    _, _, bars = plt.hist(data_boot_res, bins=50)\n",
    "    for bar in bars:\n",
    "        if bar.get_x() <= lq or bar.get_x() >= rq:\n",
    "            bar.set_facecolor('red')\n",
    "        else:\n",
    "            bar.set_facecolor('gray')\n",
    "            bar.set_edgecolor('black')\n",
    "            \n",
    "    plt.style.use('ggplot')\n",
    "    plt.vlines([lq, rq],ymin=0,ymax=50,linestyle='--')\n",
    "    plt.xlabel('boot_data')\n",
    "    plt.ylabel('frequency')\n",
    "    plt.title('Histogram ' + metric)\n",
    "    plt.show()\n",
    "    \n",
    "    print((f'Statistic: {statistic(data_boot_res)}', f'p-value: {p_value}'))\n",
    "    \n",
    "    return (data_boot_res, statistic(data_boot_res), p_value)"
   ]
  },
  {
   "cell_type": "code",
   "execution_count": 24,
   "metadata": {},
   "outputs": [
    {
     "data": {
      "application/vnd.jupyter.widget-view+json": {
       "model_id": "71c6faf676154466bd257bb5e2228c25",
       "version_major": 2,
       "version_minor": 0
      },
      "text/plain": [
       "HBox(children=(FloatProgress(value=0.0, max=1000.0), HTML(value='')))"
      ]
     },
     "metadata": {},
     "output_type": "display_data"
    },
    {
     "name": "stdout",
     "output_type": "stream",
     "text": [
      "\n"
     ]
    },
    {
     "data": {
      "image/png": "[encoded data removed]",
      "text/plain": [
       "<Figure size 432x288 with 1 Axes>"
      ]
     },
     "metadata": {
      "needs_background": "light"
     },
     "output_type": "display_data"
    },
    {
     "name": "stdout",
     "output_type": "stream",
     "text": [
      "('Statistic: 10.687599659444368', 'p-value: 0.036390551834145066')\n"
     ]
    }
   ],
   "source": [
    "data_boot, stat_boot, p_value = get_bootstrap(res_full_data[res_full_data['grp']=='B'], res_full_data[res_full_data['grp']=='A'],\n",
    "                                              metric='ARPU')"
   ]
  },
  {
   "cell_type": "markdown",
   "metadata": {},
   "source": [
    "Можно обратить внимание, что в данном случае у нас получилось статистически значимое изменение для `ARPU`"
   ]
  },
  {
   "cell_type": "code",
   "execution_count": 25,
   "metadata": {},
   "outputs": [
    {
     "data": {
      "application/vnd.jupyter.widget-view+json": {
       "model_id": "8dc82d20ef494c82a4c6e9724afba818",
       "version_major": 2,
       "version_minor": 0
      },
      "text/plain": [
       "HBox(children=(FloatProgress(value=0.0, max=1000.0), HTML(value='')))"
      ]
     },
     "metadata": {},
     "output_type": "display_data"
    },
    {
     "name": "stdout",
     "output_type": "stream",
     "text": [
      "\n"
     ]
    },
    {
     "data": {
      "image/png": "[encoded data removed]",
      "text/plain": [
       "<Figure size 432x288 with 1 Axes>"
      ]
     },
     "metadata": {},
     "output_type": "display_data"
    },
    {
     "name": "stdout",
     "output_type": "stream",
     "text": [
      "('Statistic: 323.94850486082805', 'p-value: 1.8676561071827823e-06')\n"
     ]
    }
   ],
   "source": [
    "data_boot, stat_boot, p_value = get_bootstrap(res_pay_data[res_pay_data['grp']=='B'], res_pay_data[res_pay_data['grp']=='A'],\n",
    "                                              metric='ARPPU')"
   ]
  },
  {
   "cell_type": "markdown",
   "metadata": {},
   "source": [
    "А также статистически значимое изменение получилось и для показателя `ARPPU`\n",
    "\n",
    "Проверим статистически значимо ли изменился наш коэффициент конверсии `CR`. Для этого для начала зададим функцию статистики для рассчета показателя:"
   ]
  },
  {
   "cell_type": "code",
   "execution_count": 26,
   "metadata": {},
   "outputs": [],
   "source": [
    "def stat_cr(ser): # pd.Series\n",
    "    return len(ser[ser>0]) / len(ser)"
   ]
  },
  {
   "cell_type": "code",
   "execution_count": 27,
   "metadata": {},
   "outputs": [
    {
     "data": {
      "application/vnd.jupyter.widget-view+json": {
       "model_id": "a7ba2f4696174d54a023fb5699294ba6",
       "version_major": 2,
       "version_minor": 0
      },
      "text/plain": [
       "HBox(children=(FloatProgress(value=0.0, max=1000.0), HTML(value='')))"
      ]
     },
     "metadata": {},
     "output_type": "display_data"
    },
    {
     "name": "stdout",
     "output_type": "stream",
     "text": [
      "\n"
     ]
    },
    {
     "data": {
      "image/png": "[encoded data removed]",
      "text/plain": [
       "<Figure size 432x288 with 1 Axes>"
      ]
     },
     "metadata": {},
     "output_type": "display_data"
    },
    {
     "name": "stdout",
     "output_type": "stream",
     "text": [
      "('Statistic: 0.106', 'p-value: 0.21472141303354797')\n"
     ]
    }
   ],
   "source": [
    "data_boot, stat_boot, p_value = get_bootstrap(res_data[res_data['grp']=='B'], res_data[res_data['grp']=='A'], statistic=stat_cr,\n",
    "                                              metric='CR')"
   ]
  },
  {
   "cell_type": "markdown",
   "metadata": {},
   "source": [
    "А вот изменение показателя `CR` не является статистически значимым.\n",
    "### Вывод\n",
    "В результате изменения механизма оплаты мы получили увеличение метрик `ARPU` и `ARPPU`, но снижение метрики `CR`.\n",
    "\n",
    "**Можем ли мы раскатить новый механизм оплаты на всех пользователей?**\n",
    "```md\n",
    "Да, можем.\n",
    "```\n",
    "\n",
    "**Почему?**\n",
    "```md\n",
    "В результате `Bootstrapping` анализа мы получили статистически значимое изменение наших метрик `ARPU` и `ARPPU`. Т.к. данные метрики увеличились, при этом увеличились статистически значимо это означает, что наш механизм положительно влияет на дальнейший прирост прибыли. Не смотря на то, что показатель `CR` снизился, `Bootstrapping` показал, что это снижение не является статистически значимым. Но все же необходимо более детально проанализировать, что повлияло на снижение данной метрики.\n",
    "```"
   ]
  },
  {
   "cell_type": "markdown",
   "metadata": {},
   "source": [
    "#### Задание 3. Дополнительные функции Python\n",
    "#### 3.1 Задача\n",
    "1. Реализуйте функцию, которая будет автоматически подгружать информацию из дополнительного файла `groups_add.csv` (заголовки могут отличаться) и на основании дополнительных параметров пересчитывать метрики."
   ]
  },
  {
   "cell_type": "code",
   "execution_count": 28,
   "metadata": {},
   "outputs": [],
   "source": [
    "def update_data(\n",
    "    url,\n",
    "    idx='id',\n",
    "    grp='grp',\n",
    "    uniq=True,\n",
    "    r=3,\n",
    "    metrics=[True, True, True]\n",
    "):\n",
    "    \n",
    "    \"\"\" function update_data\n",
    "    \n",
    "    url: pd.DataFrame\n",
    "        Ссылка на дополнительный массив данных с информацией о принадлежности пользователей к определенной группе.\n",
    "    idx: str, default 'id'\n",
    "        Наименование столбца, в котором содержатся идентификаторы пользователя.\n",
    "    grp: str, default 'grp'\n",
    "        Наименование столбца, в котором содержится информация о принадлежности к группе.\n",
    "    uniq: bool, default True\n",
    "        Проверка на уникальность,\n",
    "            * если True, то проверяет имеет ли поле idx уникальные значения;\n",
    "            * если False, то соединяет данные без проверки.\n",
    "    r: int, default 3\n",
    "        Количество знаков после запятой для дробных чисел.\n",
    "    metrics: bool, list bool or list str, default [True, True, True]\n",
    "        Метрики, которые необходимо рассчитать:\n",
    "            * если True, то считает все метрики;\n",
    "            * если список [True, True, True], то учитывается порядок метрик, ['ARPU', 'ARPPU', 'CR'];\n",
    "            * если список ['CR', 'ARPU'], то рассчитываются только метрики, указанные в списке, в установленном списком порядке.\n",
    "    \n",
    "    Returns: pd.DataFrame\n",
    "        Датафрейм с метриками, разделенными по группам.\n",
    "    \"\"\"\n",
    "    # список всех компонентов, которые будут возвращены функцией\n",
    "    dict_return = {}\n",
    "    \n",
    "    # список всевозможных метрик\n",
    "    metric_names = ['ARPU', 'ARPPU', 'CR']\n",
    "    \n",
    "    # считываем наши новые данные\n",
    "    ndata = pd.read_csv(base_url+url)\n",
    "    # переименовываем столбцы для дальнейшей конкатенации\n",
    "    ndata = ndata.rename(columns={idx: 'id', grp: 'grp'})[['id', 'grp']]\n",
    "    \n",
    "    # проверяем на наличие повторений\n",
    "    if uniq: dupl = groups_data.merge(ndata, how='inner', on='id')['id']\n",
    "    else: dupl = None\n",
    "    \n",
    "    # конкатенируем данные с основным массивом\n",
    "    return_data = pd.concat([groups_data, ndata]).reset_index(drop=True)\n",
    "    \n",
    "    # добавляем основные данные для рассчета метрик\n",
    "    return_data = return_data.merge(active_studs_data.rename(columns={'student_id': 'id'}), on='id')\n",
    "    return_data = return_data.merge(checks_data.rename(columns={'student_id': 'id'}), how='left', on='id') \\\n",
    "        .fillna({'rev': 0})\n",
    "    \n",
    "    # функции для расчета метрик\n",
    "    def f_arpu(): # calc ARPU\n",
    "        dict_arpu = {}\n",
    "        for group in return_data['grp'].unique():\n",
    "            dict_arpu[group] = round(sum(return_data.loc[return_data['grp']==group, 'rev']) \\\n",
    "                                         / return_data.loc[return_data['grp']==group].shape[0], r)\n",
    "            \n",
    "        return dict_arpu\n",
    "    \n",
    "    def f_arppu(): # calc ARPPU\n",
    "        dict_arppu = {}\n",
    "        for group in return_data['grp'].unique():\n",
    "            dict_arppu[group] = round(sum(return_data.loc[(return_data['grp']==group)&(return_data['rev']>0), 'rev']) \\\n",
    "                                          / return_data.loc[(return_data['grp']==group)&(return_data['rev']>0)].shape[0], r)\n",
    "            \n",
    "        return dict_arppu\n",
    "    \n",
    "    def f_cr(): # calc CR\n",
    "        dict_cr = {}\n",
    "        for group in return_data['grp'].unique():\n",
    "            dict_cr[group] = round(return_data.loc[(return_data['grp']==group)&(return_data['rev']>0)].shape[0] \\\n",
    "                                   / return_data.loc[(return_data['grp']==group)].shape[0], r+2)\n",
    "            \n",
    "        return dict_cr\n",
    "    \n",
    "    # рассчитываем основные метрики\n",
    "    if isinstance(metrics, bool):\n",
    "        if metrics:\n",
    "            dict_return['ARPU'] = f_arpu()\n",
    "            dict_return['ARPPU'] = f_arppu()\n",
    "            dict_return['CR'] = f_cr()\n",
    "        else: pass\n",
    "    elif isinstance(metrics, list):\n",
    "        for metric, metric_name in zip(metrics, metric_names):\n",
    "            if isinstance(metric, bool):\n",
    "                if metric_name == 'ARPU' and metric: dict_return['ARPU'] = f_arpu()\n",
    "                elif metric_name == 'ARPPU' and metric: dict_return['ARPPU'] = f_arppu()\n",
    "                elif metric_name == 'CR' and metric: dict_return['CR'] = f_cr()\n",
    "                else: pass\n",
    "            elif isinstance(metric, str):\n",
    "                if metric == 'ARPU': dict_return['ARPU'] = f_arpu()\n",
    "                elif metric == 'ARPPU': dict_return['ARPPU'] = f_arppu()\n",
    "                elif metric == 'CR': dict_return['CR'] = f_cr()\n",
    "                else: pass\n",
    "            else: pass\n",
    "    else: pass\n",
    "    \n",
    "    return (pd.DataFrame(dict_return).reset_index().rename(columns={'index': 'Groups'}), dupl)"
   ]
  },
  {
   "cell_type": "code",
   "execution_count": 29,
   "metadata": {},
   "outputs": [
    {
     "name": "stdout",
     "output_type": "stream",
     "text": [
      "  Groups    ARPU     ARPPU       CR\n",
      "0      A  47.347   933.590  0.05072\n",
      "1      B  58.059  1257.879  0.04616\n"
     ]
    }
   ],
   "source": [
    "df1, dupl = update_data(groups_add_data_url, metrics=True)\n",
    "print(df1)"
   ]
  },
  {
   "cell_type": "code",
   "execution_count": 30,
   "metadata": {},
   "outputs": [
    {
     "name": "stdout",
     "output_type": "stream",
     "text": [
      "Series([], Name: id, dtype: int64)\n"
     ]
    }
   ],
   "source": [
    "print(dupl)"
   ]
  },
  {
   "cell_type": "code",
   "execution_count": 31,
   "metadata": {},
   "outputs": [
    {
     "name": "stdout",
     "output_type": "stream",
     "text": [
      "  Groups    ARPU       CR\n",
      "0      A  47.347  0.05072\n",
      "1      B  58.059  0.04616\n"
     ]
    }
   ],
   "source": [
    "df2, dupl = update_data(groups_add_data_url, uniq=False, metrics=[True, False, True])\n",
    "print(df2)"
   ]
  },
  {
   "cell_type": "code",
   "execution_count": 32,
   "metadata": {},
   "outputs": [
    {
     "name": "stdout",
     "output_type": "stream",
     "text": [
      "  Groups       ARPU        CR\n",
      "0      A  47.347204  0.050715\n",
      "1      B  58.058798  0.046156\n"
     ]
    }
   ],
   "source": [
    "df3, dupl = update_data(groups_add_data_url, uniq=False, r=6, metrics=['ARPU', 'CR'])\n",
    "print(df3)"
   ]
  },
  {
   "cell_type": "code",
   "execution_count": 33,
   "metadata": {},
   "outputs": [
    {
     "name": "stdout",
     "output_type": "stream",
     "text": [
      "None\n"
     ]
    }
   ],
   "source": [
    "print(dupl)"
   ]
  },
  {
   "cell_type": "markdown",
   "metadata": {},
   "source": [
    "2. Реализуйте функцию, которая будет строить графики по получаемым метрикам."
   ]
  },
  {
   "cell_type": "code",
   "execution_count": 34,
   "metadata": {},
   "outputs": [],
   "source": [
    "def charts(data):\n",
    "    metrics = data.columns[1:]\n",
    "    \n",
    "    fig, ax = plt.subplots(1, len(metrics), figsize=(16, 4))\n",
    "    for i in range(len(metrics)):\n",
    "        ax[i].bar(x=data['Groups'], height=data.iloc[:, i+1], width=.75,\n",
    "                  color=['#14213d', '#fca311'], alpha=.8)\n",
    "        ax[i].set_title(data.iloc[:, i+1].name)\n",
    "        ax[i].set_xlabel('Groups')\n",
    "        ax[i].set_ylabel('Value')\n",
    "        \n",
    "    plt.show()"
   ]
  },
  {
   "cell_type": "code",
   "execution_count": 35,
   "metadata": {},
   "outputs": [
    {
     "data": {
      "image/png": "[encoded data removed]",
      "text/plain": [
       "<Figure size 1152x288 with 3 Axes>"
      ]
     },
     "metadata": {},
     "output_type": "display_data"
    }
   ],
   "source": [
    "charts(df1)"
   ]
  },
  {
   "cell_type": "code",
   "execution_count": 36,
   "metadata": {},
   "outputs": [
    {
     "data": {
      "image/png": "[encoded data removed]",
      "text/plain": [
       "<Figure size 1152x288 with 2 Axes>"
      ]
     },
     "metadata": {},
     "output_type": "display_data"
    }
   ],
   "source": [
    "charts(df2)"
   ]
  },
  {
   "cell_type": "code",
   "execution_count": 37,
   "metadata": {},
   "outputs": [
    {
     "data": {
      "image/png": "[encoded data removed]",
      "text/plain": [
       "<Figure size 1152x288 with 2 Axes>"
      ]
     },
     "metadata": {},
     "output_type": "display_data"
    }
   ],
   "source": [
    "charts(df3)"
   ]
  }
 ],
 "metadata": {
  "kernelspec": {
   "display_name": "Python 3",
   "language": "python",
   "name": "python3"
  },
  "language_info": {
   "codemirror_mode": {
    "name": "ipython",
    "version": 3
   },
   "file_extension": ".py",
   "mimetype": "text/x-python",
   "name": "python",
   "nbconvert_exporter": "python",
   "pygments_lexer": "ipython3",
   "version": "3.7.3"
  }
 },
 "nbformat": 4,
 "nbformat_minor": 4
}
