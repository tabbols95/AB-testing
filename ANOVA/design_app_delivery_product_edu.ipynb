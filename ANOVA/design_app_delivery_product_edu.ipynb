{
 "cells": [
  {
   "cell_type": "markdown",
   "id": "bb1b96e4",
   "metadata": {},
   "source": [
    "### Предисловие\n",
    "На этот раз ситуация следующая: Вы работаете в приложении по доставке готовых продуктов. К Вам пришел коллега с результатами двух тестов:\n",
    "* в первом тестировали разрешение фотографии блюд в приложении: пользователям показывались либо прямоугольные, либо новые квадратные;\n",
    "* во втором: была обновлена кнопка заказа, и часть юзеров видела старый вариант, а часть - новый.\n",
    "\n",
    "Коллега пришел к Вам с просьбой: он посмотрел на графики и предположил, что среди групп могут встретиться различия. Ваша задача - помочь ему проверить гипотезы, сделать соответствующие выводы на основе статистических тестов и принять решения.\n",
    "\n",
    "### Задания\n",
    "1. Выбрать метод, который предположительно подойдет в первом вопросе.\n",
    "2. Проверить, являются ли дисперсии внутри групп гомогенными.\n",
    "3. Провести тест на нормальность распределения.\n",
    "4. Сравнить средние в представленных группах.\n",
    "5. Используя критерий Тьюки определить, между какими группами есть статистически значимые различия.\n",
    "6. Принять решение: какие графики необходимо использовать.\n",
    "7. Выбрать метод для второго теста.\n",
    "8. ВУзуализировать распределение событий для контрольной и тестовой групп.\n",
    "9. Посмотреть на описательные статистики событий в разбивке по группе и по сегменту пользователя.\n",
    "10. Выбрать формулу для модели, провести тест.\n",
    "\n",
    "### Описание данных\n",
    "* id - идентификатор клиента в эксперименте\n",
    "* group - в каком разрешении показывались картинки (A - прямоугольные 16:9, B - квадратные, C - прямоугольные 12:4)\n",
    "* events - сколько блюд суммарно было заказано за период"
   ]
  },
  {
   "cell_type": "code",
   "execution_count": 32,
   "id": "97fd876f",
   "metadata": {},
   "outputs": [],
   "source": [
    "import pandas as pd\n",
    "from scipy.stats import levene, shapiro\n",
    "import matplotlib.pyplot as plt\n",
    "import pingouin as pg\n",
    "import seaborn as sns\n",
    "\n",
    "import warnings\n",
    "\n",
    "%matplotlib inline\n",
    "warnings.filterwarnings('ignore')"
   ]
  },
  {
   "cell_type": "code",
   "execution_count": 2,
   "id": "cac3184b",
   "metadata": {},
   "outputs": [],
   "source": [
    "# global variables\n",
    "BASE_URL = 'https://getfile.dokpub.com/yandex/get/'"
   ]
  },
  {
   "cell_type": "code",
   "execution_count": 4,
   "id": "77543d38",
   "metadata": {},
   "outputs": [],
   "source": [
    "# read data\n",
    "url_data1 = 'https://disk.yandex.ru/d/iRcyB5PS8JB1lw'\n",
    "data = pd.read_csv(BASE_URL + url_data1)"
   ]
  },
  {
   "cell_type": "code",
   "execution_count": 6,
   "id": "4fc2c9c1",
   "metadata": {},
   "outputs": [
    {
     "data": {
      "text/html": [
       "<div>\n",
       "<style scoped>\n",
       "    .dataframe tbody tr th:only-of-type {\n",
       "        vertical-align: middle;\n",
       "    }\n",
       "\n",
       "    .dataframe tbody tr th {\n",
       "        vertical-align: top;\n",
       "    }\n",
       "\n",
       "    .dataframe thead th {\n",
       "        text-align: right;\n",
       "    }\n",
       "</style>\n",
       "<table border=\"1\" class=\"dataframe\">\n",
       "  <thead>\n",
       "    <tr style=\"text-align: right;\">\n",
       "      <th></th>\n",
       "      <th>id</th>\n",
       "      <th>group</th>\n",
       "      <th>events</th>\n",
       "    </tr>\n",
       "  </thead>\n",
       "  <tbody>\n",
       "    <tr>\n",
       "      <th>0</th>\n",
       "      <td>16046</td>\n",
       "      <td>A</td>\n",
       "      <td>14</td>\n",
       "    </tr>\n",
       "    <tr>\n",
       "      <th>1</th>\n",
       "      <td>18712</td>\n",
       "      <td>A</td>\n",
       "      <td>41</td>\n",
       "    </tr>\n",
       "    <tr>\n",
       "      <th>2</th>\n",
       "      <td>3268</td>\n",
       "      <td>A</td>\n",
       "      <td>30</td>\n",
       "    </tr>\n",
       "    <tr>\n",
       "      <th>3</th>\n",
       "      <td>22633</td>\n",
       "      <td>A</td>\n",
       "      <td>37</td>\n",
       "    </tr>\n",
       "    <tr>\n",
       "      <th>4</th>\n",
       "      <td>28071</td>\n",
       "      <td>A</td>\n",
       "      <td>38</td>\n",
       "    </tr>\n",
       "  </tbody>\n",
       "</table>\n",
       "</div>"
      ],
      "text/plain": [
       "      id group  events\n",
       "0  16046     A      14\n",
       "1  18712     A      41\n",
       "2   3268     A      30\n",
       "3  22633     A      37\n",
       "4  28071     A      38"
      ]
     },
     "execution_count": 6,
     "metadata": {},
     "output_type": "execute_result"
    }
   ],
   "source": [
    "data.head()"
   ]
  },
  {
   "cell_type": "code",
   "execution_count": 15,
   "id": "e5aa932b",
   "metadata": {},
   "outputs": [],
   "source": [
    "data_group_A = data.loc[data['group']=='A', 'events']\n",
    "data_group_B = data.loc[data['group']=='B', 'events']\n",
    "data_group_C = data.loc[data['group']=='C', 'events']"
   ]
  },
  {
   "cell_type": "code",
   "execution_count": 16,
   "id": "e6c4dbbe",
   "metadata": {},
   "outputs": [
    {
     "data": {
      "text/plain": [
       "LeveneResult(statistic=2.2622596339318037, pvalue=0.1041327199523974)"
      ]
     },
     "execution_count": 16,
     "metadata": {},
     "output_type": "execute_result"
    }
   ],
   "source": [
    "'''Проверка выборок на гомогенность дисперсий\n",
    "Нулевая гипотеза (H0) говорит о гомогенности дисперсий.\n",
    "Альтернативная гипотеза (Н1) позволит с вероятностью 5% отклонить нулевую гипотезу.\n",
    "\n",
    "Т.к. нас интересует равенство дисперсий, то в данном случае нам интересна нулевая гипотеза.\n",
    "'''\n",
    "\n",
    "levene(data_group_A, data_group_B, data_group_C)"
   ]
  },
  {
   "cell_type": "markdown",
   "id": "a758bfc3",
   "metadata": {},
   "source": [
    "Показатель `p-value` получился больше 0.05. Можно сделать вывод, что у нас недостаточно оснований отклонить нулевую гипотезу в пользу альтернативной. Отсюда следует, что во всех 3-х выборках дисперсия значимо не отличается."
   ]
  },
  {
   "cell_type": "code",
   "execution_count": 17,
   "id": "971c765d",
   "metadata": {},
   "outputs": [
    {
     "data": {
      "text/plain": [
       "A    10000\n",
       "B    10000\n",
       "C    10000\n",
       "Name: group, dtype: int64"
      ]
     },
     "execution_count": 17,
     "metadata": {},
     "output_type": "execute_result"
    }
   ],
   "source": [
    "data['group'].value_counts()"
   ]
  },
  {
   "cell_type": "code",
   "execution_count": 25,
   "id": "5cb9df99",
   "metadata": {},
   "outputs": [
    {
     "name": "stdout",
     "output_type": "stream",
     "text": [
      "group A:  ShapiroResult(statistic=0.9989334344863892, pvalue=3.915170964319259e-06)\n",
      "group B:  ShapiroResult(statistic=0.9990164041519165, pvalue=1.0542044037720188e-05)\n",
      "group C:  ShapiroResult(statistic=0.9989203214645386, pvalue=3.3573114706086926e-06)\n"
     ]
    }
   ],
   "source": [
    "'''Проверка выборок на нормальность\n",
    "Нулевая гипотеза (H0) говорит о соответсвии нашего распределения нормальному.\n",
    "Альтернативная гипотеза (H1) говорит о несоответствии нашего распределения нормальному.\n",
    "\n",
    "Как и с гомогенностью дисперсий, нас интересует нулевая гипотеза, чтобы наши выборки были \n",
    "распределены нормально.\n",
    "'''\n",
    "\n",
    "print('group A: ', shapiro(data_group_A))\n",
    "print('group B: ', shapiro(data_group_B))\n",
    "print('group C: ', shapiro(data_group_C))"
   ]
  },
  {
   "cell_type": "code",
   "execution_count": 28,
   "id": "45186be0",
   "metadata": {},
   "outputs": [
    {
     "data": {
      "image/png": "[encoded data removed]",
      "text/plain": [
       "<Figure size 900x400 with 3 Axes>"
      ]
     },
     "metadata": {},
     "output_type": "display_data"
    }
   ],
   "source": [
    "fig, (ax1, ax2, ax3) = plt.subplots(1, 3, figsize=(9, 4))\n",
    "\n",
    "ax1 = pg.qqplot(data_group_A, dist='norm', ax=ax1)\n",
    "ax1.set_title('Group_A')\n",
    "ax2 = pg.qqplot(data_group_B, dist='norm', ax=ax2)\n",
    "ax2.set_title('Group_B')\n",
    "ax3 = pg.qqplot(data_group_C, dist='norm', ax=ax3)\n",
    "ax3.set_title('Group_C')\n",
    "plt.show()"
   ]
  },
  {
   "cell_type": "markdown",
   "id": "71e57c81",
   "metadata": {},
   "source": [
    "Можно обратить внимание, что все выборки имеют нормальное распределение (критерий Shapiro-Wilk). Подтверждением чему является график `qqplot`."
   ]
  },
  {
   "cell_type": "code",
   "execution_count": 30,
   "id": "cdb6ab27",
   "metadata": {},
   "outputs": [
    {
     "data": {
      "text/html": [
       "<div>\n",
       "<style scoped>\n",
       "    .dataframe tbody tr th:only-of-type {\n",
       "        vertical-align: middle;\n",
       "    }\n",
       "\n",
       "    .dataframe tbody tr th {\n",
       "        vertical-align: top;\n",
       "    }\n",
       "\n",
       "    .dataframe thead th {\n",
       "        text-align: right;\n",
       "    }\n",
       "</style>\n",
       "<table border=\"1\" class=\"dataframe\">\n",
       "  <thead>\n",
       "    <tr style=\"text-align: right;\">\n",
       "      <th></th>\n",
       "      <th>Source</th>\n",
       "      <th>ddof1</th>\n",
       "      <th>ddof2</th>\n",
       "      <th>F</th>\n",
       "      <th>p-unc</th>\n",
       "      <th>np2</th>\n",
       "    </tr>\n",
       "  </thead>\n",
       "  <tbody>\n",
       "    <tr>\n",
       "      <th>0</th>\n",
       "      <td>group</td>\n",
       "      <td>2</td>\n",
       "      <td>29997</td>\n",
       "      <td>2886.166657</td>\n",
       "      <td>0.0</td>\n",
       "      <td>0.161377</td>\n",
       "    </tr>\n",
       "  </tbody>\n",
       "</table>\n",
       "</div>"
      ],
      "text/plain": [
       "  Source  ddof1  ddof2            F  p-unc       np2\n",
       "0  group      2  29997  2886.166657    0.0  0.161377"
      ]
     },
     "execution_count": 30,
     "metadata": {},
     "output_type": "execute_result"
    }
   ],
   "source": [
    "'''Дисперсионный анализ\n",
    "Нулевая гипотеза (H0) между группами отсутствуют значимые различия.\n",
    "Альтернативная гипотеза (H1) хотя бы между двумя какими-то группами имеются значимые различия.\n",
    "'''\n",
    "\n",
    "pg.anova(data=data, dv='events', between='group')"
   ]
  },
  {
   "cell_type": "markdown",
   "id": "30ec94ee",
   "metadata": {},
   "source": [
    "Анализируя результаты дисперсионного анализа можно сделать вывод, что между какими-то группами имеются различия. Этому свидетельствует показатель `p-value` равный 0.0."
   ]
  },
  {
   "cell_type": "code",
   "execution_count": 31,
   "id": "36eedf7f",
   "metadata": {},
   "outputs": [
    {
     "data": {
      "text/html": [
       "<div>\n",
       "<style scoped>\n",
       "    .dataframe tbody tr th:only-of-type {\n",
       "        vertical-align: middle;\n",
       "    }\n",
       "\n",
       "    .dataframe tbody tr th {\n",
       "        vertical-align: top;\n",
       "    }\n",
       "\n",
       "    .dataframe thead th {\n",
       "        text-align: right;\n",
       "    }\n",
       "</style>\n",
       "<table border=\"1\" class=\"dataframe\">\n",
       "  <thead>\n",
       "    <tr style=\"text-align: right;\">\n",
       "      <th></th>\n",
       "      <th>A</th>\n",
       "      <th>B</th>\n",
       "      <th>mean(A)</th>\n",
       "      <th>mean(B)</th>\n",
       "      <th>diff</th>\n",
       "      <th>se</th>\n",
       "      <th>T</th>\n",
       "      <th>p-tukey</th>\n",
       "      <th>hedges</th>\n",
       "    </tr>\n",
       "  </thead>\n",
       "  <tbody>\n",
       "    <tr>\n",
       "      <th>0</th>\n",
       "      <td>A</td>\n",
       "      <td>B</td>\n",
       "      <td>29.5796</td>\n",
       "      <td>37.6136</td>\n",
       "      <td>-8.0340</td>\n",
       "      <td>0.140894</td>\n",
       "      <td>-57.021604</td>\n",
       "      <td>0.0</td>\n",
       "      <td>-0.806229</td>\n",
       "    </tr>\n",
       "    <tr>\n",
       "      <th>1</th>\n",
       "      <td>A</td>\n",
       "      <td>C</td>\n",
       "      <td>29.5796</td>\n",
       "      <td>27.4703</td>\n",
       "      <td>2.1093</td>\n",
       "      <td>0.140894</td>\n",
       "      <td>14.970833</td>\n",
       "      <td>0.0</td>\n",
       "      <td>0.210514</td>\n",
       "    </tr>\n",
       "    <tr>\n",
       "      <th>2</th>\n",
       "      <td>B</td>\n",
       "      <td>C</td>\n",
       "      <td>37.6136</td>\n",
       "      <td>27.4703</td>\n",
       "      <td>10.1433</td>\n",
       "      <td>0.140894</td>\n",
       "      <td>71.992436</td>\n",
       "      <td>0.0</td>\n",
       "      <td>1.024138</td>\n",
       "    </tr>\n",
       "  </tbody>\n",
       "</table>\n",
       "</div>"
      ],
      "text/plain": [
       "   A  B  mean(A)  mean(B)     diff        se          T  p-tukey    hedges\n",
       "0  A  B  29.5796  37.6136  -8.0340  0.140894 -57.021604      0.0 -0.806229\n",
       "1  A  C  29.5796  27.4703   2.1093  0.140894  14.970833      0.0  0.210514\n",
       "2  B  C  37.6136  27.4703  10.1433  0.140894  71.992436      0.0  1.024138"
      ]
     },
     "execution_count": 31,
     "metadata": {},
     "output_type": "execute_result"
    }
   ],
   "source": [
    "pg.pairwise_tukey(data=data, dv='events', between='group')"
   ]
  },
  {
   "cell_type": "markdown",
   "id": "b157b1e1",
   "metadata": {},
   "source": [
    "Т.к. соблюдается условие гомогенности дисперсий, то можно использовать критерий Тьюки для определения различий между группами. Показатель `p-value` показывает, что между всеми группами имеются значимые различия."
   ]
  },
  {
   "cell_type": "markdown",
   "id": "1ad4de8e",
   "metadata": {},
   "source": [
    "Чтобы выбрать картинки, которые необходимо использовать, можно посмотреть, где среднее значение выше, значит эта группа экспериментируемых имеет наибольший эффект.\n",
    "\n",
    "Также можно построить график `catplot`."
   ]
  },
  {
   "cell_type": "code",
   "execution_count": 48,
   "id": "05b42939",
   "metadata": {},
   "outputs": [
    {
     "data": {
      "image/png": "[encoded data removed]",
      "text/plain": [
       "<Figure size 500x500 with 1 Axes>"
      ]
     },
     "metadata": {},
     "output_type": "display_data"
    }
   ],
   "source": [
    "sns.catplot(data=data, x='group', y='events', kind='point', capsize=.1)\n",
    "plt.show()"
   ]
  },
  {
   "cell_type": "markdown",
   "id": "7f94d101",
   "metadata": {},
   "source": [
    "По графику явно наблюдается преимущество у группы `B`. Отсюда можно сделать вывод, что эффект от события больше в случае если фотографии блюд в приложении будут иметь квадратную форму."
   ]
  }
 ],
 "metadata": {
  "kernelspec": {
   "display_name": "Python 3 (ipykernel)",
   "language": "python",
   "name": "python3"
  },
  "language_info": {
   "codemirror_mode": {
    "name": "ipython",
    "version": 3
   },
   "file_extension": ".py",
   "mimetype": "text/x-python",
   "name": "python",
   "nbconvert_exporter": "python",
   "pygments_lexer": "ipython3",
   "version": "3.9.13"
  }
 },
 "nbformat": 4,
 "nbformat_minor": 5
}
