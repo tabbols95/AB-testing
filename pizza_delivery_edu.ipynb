{
 "cells": [
  {
   "cell_type": "markdown",
   "id": "40ec254f",
   "metadata": {},
   "source": [
    "### Задание\n",
    "\n",
    "Представьте, что вы работаете аналитиком в очень крупной компании по доставке пиццы над приложением для курьеров (да, обычно в таких компаниях есть приложение для курьеров и отдельно приложение для потребителей).\n",
    "\n",
    "У вас есть несколько ресторанов в разных частях города и целый штат курьеров. Но есть одна проблема — к вечеру скорость доставки падает из-за того, что курьеры уходят домой после рабочего дня, а количество заказов лишь растет. Это приводит к тому, что в момент пересмены наша доставка очень сильно проседает в эффективности. \n",
    "\n",
    "Наши data scientist-ы придумали новый алгоритм, который позволяет курьерам запланировать свои последние заказы перед окончанием рабочего дня так, чтобы их маршрут доставки совпадал с маршрутом до дома. То есть, чтобы курьеры доставляли последние свои заказы за день как бы \"по пути\" домой. \n",
    "\n",
    "Вы вместе с командой решили раскатить A/B тест на две равные группы курьеров. Часть курьеров использует старый алгоритм без опции \"по пути\", другие видят в своем приложении эту опцию и могут ее выбрать. Ваша задача – проанализировать данные эксперимента и помочь бизнесу принять решение о раскатке новой фичи на всех курьеров."
   ]
  },
  {
   "cell_type": "markdown",
   "id": "c3f9d958",
   "metadata": {},
   "source": [
    "### Описание данных\n",
    "\n",
    "* order_id - идентификатор заказа\n",
    "* delivery_time - время доставки в минутах\n",
    "* district - район доставки\n",
    "* experiment_group - принадлежность экспериментальной группе"
   ]
  },
  {
   "cell_type": "markdown",
   "id": "ca4f5870",
   "metadata": {},
   "source": [
    "### Гипотезы\n",
    "**Нулевая гипотеза** (`H0`): Разницы между средним временем доставки в тестовой и контрольной группе нет.<br>\n",
    "**Альтернативная гипотеза** (`H1`): Разница между средним временем доставки в тестовой и контрольной группе есть."
   ]
  },
  {
   "cell_type": "code",
   "execution_count": 1,
   "id": "05e92e0d",
   "metadata": {},
   "outputs": [],
   "source": [
    "import pandas as pd\n",
    "import numpy as np\n",
    "import matplotlib.pyplot as plt\n",
    "import seaborn as sns\n",
    "import pingouin as pg\n",
    "\n",
    "import warnings\n",
    "warnings.filterwarnings('ignore')\n",
    "\n",
    "%matplotlib inline"
   ]
  },
  {
   "cell_type": "code",
   "execution_count": 2,
   "id": "095a213a",
   "metadata": {},
   "outputs": [],
   "source": [
    "data = pd.read_csv('data_pizza_delivery.csv')"
   ]
  },
  {
   "cell_type": "code",
   "execution_count": 3,
   "id": "b6277224",
   "metadata": {},
   "outputs": [
    {
     "data": {
      "text/html": [
       "<div>\n",
       "<style scoped>\n",
       "    .dataframe tbody tr th:only-of-type {\n",
       "        vertical-align: middle;\n",
       "    }\n",
       "\n",
       "    .dataframe tbody tr th {\n",
       "        vertical-align: top;\n",
       "    }\n",
       "\n",
       "    .dataframe thead th {\n",
       "        text-align: right;\n",
       "    }\n",
       "</style>\n",
       "<table border=\"1\" class=\"dataframe\">\n",
       "  <thead>\n",
       "    <tr style=\"text-align: right;\">\n",
       "      <th></th>\n",
       "      <th>order_id</th>\n",
       "      <th>delivery_time</th>\n",
       "      <th>district</th>\n",
       "      <th>experiment_group</th>\n",
       "    </tr>\n",
       "  </thead>\n",
       "  <tbody>\n",
       "    <tr>\n",
       "      <th>0</th>\n",
       "      <td>3159</td>\n",
       "      <td>44.0</td>\n",
       "      <td>Purlieus</td>\n",
       "      <td>control</td>\n",
       "    </tr>\n",
       "    <tr>\n",
       "      <th>1</th>\n",
       "      <td>10426</td>\n",
       "      <td>51.0</td>\n",
       "      <td>Purlieus</td>\n",
       "      <td>control</td>\n",
       "    </tr>\n",
       "    <tr>\n",
       "      <th>2</th>\n",
       "      <td>9155</td>\n",
       "      <td>46.0</td>\n",
       "      <td>Purlieus</td>\n",
       "      <td>control</td>\n",
       "    </tr>\n",
       "    <tr>\n",
       "      <th>3</th>\n",
       "      <td>10699</td>\n",
       "      <td>34.0</td>\n",
       "      <td>Purlieus</td>\n",
       "      <td>control</td>\n",
       "    </tr>\n",
       "    <tr>\n",
       "      <th>4</th>\n",
       "      <td>10061</td>\n",
       "      <td>43.0</td>\n",
       "      <td>Purlieus</td>\n",
       "      <td>control</td>\n",
       "    </tr>\n",
       "  </tbody>\n",
       "</table>\n",
       "</div>"
      ],
      "text/plain": [
       "   order_id  delivery_time  district experiment_group\n",
       "0      3159           44.0  Purlieus          control\n",
       "1     10426           51.0  Purlieus          control\n",
       "2      9155           46.0  Purlieus          control\n",
       "3     10699           34.0  Purlieus          control\n",
       "4     10061           43.0  Purlieus          control"
      ]
     },
     "execution_count": 3,
     "metadata": {},
     "output_type": "execute_result"
    }
   ],
   "source": [
    "data.head()"
   ]
  },
  {
   "cell_type": "code",
   "execution_count": 4,
   "id": "020d7371",
   "metadata": {},
   "outputs": [
    {
     "name": "stdout",
     "output_type": "stream",
     "text": [
      "<class 'pandas.core.frame.DataFrame'>\n",
      "RangeIndex: 20196 entries, 0 to 20195\n",
      "Data columns (total 4 columns):\n",
      " #   Column            Non-Null Count  Dtype  \n",
      "---  ------            --------------  -----  \n",
      " 0   order_id          20196 non-null  int64  \n",
      " 1   delivery_time     20196 non-null  float64\n",
      " 2   district          20196 non-null  object \n",
      " 3   experiment_group  20196 non-null  object \n",
      "dtypes: float64(1), int64(1), object(2)\n",
      "memory usage: 631.2+ KB\n"
     ]
    }
   ],
   "source": [
    "data.info()"
   ]
  },
  {
   "cell_type": "code",
   "execution_count": 5,
   "id": "c2e327b8",
   "metadata": {},
   "outputs": [
    {
     "data": {
      "image/png": "[encoded data removed]",
      "text/plain": [
       "<Figure size 638.361x500 with 1 Axes>"
      ]
     },
     "metadata": {},
     "output_type": "display_data"
    }
   ],
   "source": [
    "sns.displot(data=data, x='delivery_time', hue='experiment_group', kde=True)\n",
    "sns.despine(offset=0, trim=True)"
   ]
  },
  {
   "cell_type": "markdown",
   "id": "c3aee316",
   "metadata": {},
   "source": [
    "Если обратить внимание на распределение, то визуально мы видим, что данные из тестовой группы смещены левее по оси `X`, чем данные из контрольной группы.<br>\n",
    "При этом визуально наблюдается, что обе выборки распределены нормально."
   ]
  },
  {
   "cell_type": "code",
   "execution_count": 6,
   "id": "0b6080bb",
   "metadata": {},
   "outputs": [
    {
     "data": {
      "text/html": [
       "<div>\n",
       "<style scoped>\n",
       "    .dataframe tbody tr th:only-of-type {\n",
       "        vertical-align: middle;\n",
       "    }\n",
       "\n",
       "    .dataframe tbody tr th {\n",
       "        vertical-align: top;\n",
       "    }\n",
       "\n",
       "    .dataframe thead th {\n",
       "        text-align: right;\n",
       "    }\n",
       "</style>\n",
       "<table border=\"1\" class=\"dataframe\">\n",
       "  <thead>\n",
       "    <tr style=\"text-align: right;\">\n",
       "      <th></th>\n",
       "      <th>W</th>\n",
       "      <th>pval</th>\n",
       "      <th>normal</th>\n",
       "    </tr>\n",
       "    <tr>\n",
       "      <th>experiment_group</th>\n",
       "      <th></th>\n",
       "      <th></th>\n",
       "      <th></th>\n",
       "    </tr>\n",
       "  </thead>\n",
       "  <tbody>\n",
       "    <tr>\n",
       "      <th>control</th>\n",
       "      <td>0.998722</td>\n",
       "      <td>3.223325e-07</td>\n",
       "      <td>False</td>\n",
       "    </tr>\n",
       "    <tr>\n",
       "      <th>test</th>\n",
       "      <td>0.998628</td>\n",
       "      <td>1.172024e-07</td>\n",
       "      <td>False</td>\n",
       "    </tr>\n",
       "  </tbody>\n",
       "</table>\n",
       "</div>"
      ],
      "text/plain": [
       "                         W          pval  normal\n",
       "experiment_group                                \n",
       "control           0.998722  3.223325e-07   False\n",
       "test              0.998628  1.172024e-07   False"
      ]
     },
     "execution_count": 6,
     "metadata": {},
     "output_type": "execute_result"
    }
   ],
   "source": [
    "pg.normality(data=data, dv='delivery_time', group='experiment_group', method='shapiro')"
   ]
  },
  {
   "cell_type": "markdown",
   "id": "78737c9d",
   "metadata": {},
   "source": [
    "Тест Шапиро-Уилка показывает, что данные распределены `ненормально`. Это может быть вызвано большим количеством наблюдений в выборке."
   ]
  },
  {
   "cell_type": "code",
   "execution_count": 7,
   "id": "241d2c9b",
   "metadata": {},
   "outputs": [
    {
     "data": {
      "text/plain": [
       "test       10104\n",
       "control    10092\n",
       "Name: experiment_group, dtype: int64"
      ]
     },
     "execution_count": 7,
     "metadata": {},
     "output_type": "execute_result"
    }
   ],
   "source": [
    "data['experiment_group'].value_counts()"
   ]
  },
  {
   "cell_type": "code",
   "execution_count": 8,
   "id": "211969d1",
   "metadata": {},
   "outputs": [
    {
     "data": {
      "text/html": [
       "<div>\n",
       "<style scoped>\n",
       "    .dataframe tbody tr th:only-of-type {\n",
       "        vertical-align: middle;\n",
       "    }\n",
       "\n",
       "    .dataframe tbody tr th {\n",
       "        vertical-align: top;\n",
       "    }\n",
       "\n",
       "    .dataframe thead th {\n",
       "        text-align: right;\n",
       "    }\n",
       "</style>\n",
       "<table border=\"1\" class=\"dataframe\">\n",
       "  <thead>\n",
       "    <tr style=\"text-align: right;\">\n",
       "      <th></th>\n",
       "      <th>W</th>\n",
       "      <th>pval</th>\n",
       "      <th>normal</th>\n",
       "    </tr>\n",
       "    <tr>\n",
       "      <th>experiment_group</th>\n",
       "      <th></th>\n",
       "      <th></th>\n",
       "      <th></th>\n",
       "    </tr>\n",
       "  </thead>\n",
       "  <tbody>\n",
       "    <tr>\n",
       "      <th>control</th>\n",
       "      <td>0.253498</td>\n",
       "      <td>0.880955</td>\n",
       "      <td>True</td>\n",
       "    </tr>\n",
       "    <tr>\n",
       "      <th>test</th>\n",
       "      <td>7.024157</td>\n",
       "      <td>0.029835</td>\n",
       "      <td>False</td>\n",
       "    </tr>\n",
       "  </tbody>\n",
       "</table>\n",
       "</div>"
      ],
      "text/plain": [
       "                         W      pval  normal\n",
       "experiment_group                            \n",
       "control           0.253498  0.880955    True\n",
       "test              7.024157  0.029835   False"
      ]
     },
     "execution_count": 8,
     "metadata": {},
     "output_type": "execute_result"
    }
   ],
   "source": [
    "pg.normality(data=data, dv='delivery_time', group='experiment_group', method='normaltest')"
   ]
  },
  {
   "cell_type": "markdown",
   "id": "c352276e",
   "metadata": {},
   "source": [
    "Можем обратить внимание, что данные в _контрольной группе_ распределены `нормально`, а данные в _тестовой группе_ распределены `ненормально`.<br>\n",
    "При этом визуально мы видим, что наша выборка имеет нормальное распределение. И учитывая большой набор данных используем допущение, что наши данные распределены `нормально`."
   ]
  },
  {
   "cell_type": "code",
   "execution_count": 9,
   "id": "70cc32cf",
   "metadata": {},
   "outputs": [
    {
     "data": {
      "text/html": [
       "<div>\n",
       "<style scoped>\n",
       "    .dataframe tbody tr th:only-of-type {\n",
       "        vertical-align: middle;\n",
       "    }\n",
       "\n",
       "    .dataframe tbody tr th {\n",
       "        vertical-align: top;\n",
       "    }\n",
       "\n",
       "    .dataframe thead th {\n",
       "        text-align: right;\n",
       "    }\n",
       "</style>\n",
       "<table border=\"1\" class=\"dataframe\">\n",
       "  <thead>\n",
       "    <tr style=\"text-align: right;\">\n",
       "      <th></th>\n",
       "      <th>delivery_time</th>\n",
       "    </tr>\n",
       "    <tr>\n",
       "      <th>experiment_group</th>\n",
       "      <th></th>\n",
       "    </tr>\n",
       "  </thead>\n",
       "  <tbody>\n",
       "    <tr>\n",
       "      <th>control</th>\n",
       "      <td>9.990</td>\n",
       "    </tr>\n",
       "    <tr>\n",
       "      <th>test</th>\n",
       "      <td>9.883</td>\n",
       "    </tr>\n",
       "  </tbody>\n",
       "</table>\n",
       "</div>"
      ],
      "text/plain": [
       "                  delivery_time\n",
       "experiment_group               \n",
       "control                   9.990\n",
       "test                      9.883"
      ]
     },
     "execution_count": 9,
     "metadata": {},
     "output_type": "execute_result"
    }
   ],
   "source": [
    "data.groupby('experiment_group').agg({'delivery_time': np.std}).round(3)"
   ]
  },
  {
   "cell_type": "markdown",
   "id": "7568450e",
   "metadata": {},
   "source": [
    "Для проверки гипотезы о существенности изменения времени доставки в тестовой и контрольной группах проведем `ttest`."
   ]
  },
  {
   "cell_type": "code",
   "execution_count": 10,
   "id": "90066224",
   "metadata": {},
   "outputs": [],
   "source": [
    "data_control_gr = data.loc[data['experiment_group']=='control', 'delivery_time']\n",
    "data_test_gr = data.loc[data['experiment_group']=='test', 'delivery_time']"
   ]
  },
  {
   "cell_type": "code",
   "execution_count": 11,
   "id": "cc39a2e2",
   "metadata": {},
   "outputs": [
    {
     "data": {
      "text/html": [
       "<div>\n",
       "<style scoped>\n",
       "    .dataframe tbody tr th:only-of-type {\n",
       "        vertical-align: middle;\n",
       "    }\n",
       "\n",
       "    .dataframe tbody tr th {\n",
       "        vertical-align: top;\n",
       "    }\n",
       "\n",
       "    .dataframe thead th {\n",
       "        text-align: right;\n",
       "    }\n",
       "</style>\n",
       "<table border=\"1\" class=\"dataframe\">\n",
       "  <thead>\n",
       "    <tr style=\"text-align: right;\">\n",
       "      <th></th>\n",
       "      <th>T</th>\n",
       "      <th>dof</th>\n",
       "      <th>alternative</th>\n",
       "      <th>p-val</th>\n",
       "      <th>CI95%</th>\n",
       "      <th>cohen-d</th>\n",
       "      <th>BF10</th>\n",
       "      <th>power</th>\n",
       "    </tr>\n",
       "  </thead>\n",
       "  <tbody>\n",
       "    <tr>\n",
       "      <th>T-test</th>\n",
       "      <td>43.035552</td>\n",
       "      <td>20191.127788</td>\n",
       "      <td>two-sided</td>\n",
       "      <td>0.0</td>\n",
       "      <td>[5.74, 6.29]</td>\n",
       "      <td>0.605658</td>\n",
       "      <td>inf</td>\n",
       "      <td>1.0</td>\n",
       "    </tr>\n",
       "  </tbody>\n",
       "</table>\n",
       "</div>"
      ],
      "text/plain": [
       "                T           dof alternative  p-val         CI95%   cohen-d  \\\n",
       "T-test  43.035552  20191.127788   two-sided    0.0  [5.74, 6.29]  0.605658   \n",
       "\n",
       "       BF10  power  \n",
       "T-test  inf    1.0  "
      ]
     },
     "execution_count": 11,
     "metadata": {},
     "output_type": "execute_result"
    }
   ],
   "source": [
    "pg.ttest(data_control_gr, data_test_gr)"
   ]
  },
  {
   "cell_type": "code",
   "execution_count": 12,
   "id": "873cafd5",
   "metadata": {},
   "outputs": [
    {
     "data": {
      "image/png": "[encoded data removed]",
      "text/plain": [
       "<Figure size 300x500 with 1 Axes>"
      ]
     },
     "metadata": {},
     "output_type": "display_data"
    }
   ],
   "source": [
    "plt.figure(figsize=(3, 5))\n",
    "sns.set_theme(style='ticks', palette='pastel')\n",
    "sns.boxplot(x='experiment_group', y='delivery_time', data=data)\n",
    "sns.despine(offset=10, trim=True)"
   ]
  },
  {
   "cell_type": "markdown",
   "id": "0edbf52e",
   "metadata": {},
   "source": [
    "Можем обратить внимание, что `p-value` в нашем случае получилось меньше 0.05, что дает нам достаточно оснований отклонить нулевую гипотезу (о равенстве среднего времени доставки в тестовой и контрольной группе) в пользу альтернативной."
   ]
  },
  {
   "cell_type": "markdown",
   "id": "3e9b3ff7",
   "metadata": {},
   "source": [
    "Для интерпретации результатов, посмотрим на сколько сократилось среднее время доставки пиццы:"
   ]
  },
  {
   "cell_type": "code",
   "execution_count": 13,
   "id": "80f15f7c",
   "metadata": {},
   "outputs": [
    {
     "name": "stdout",
     "output_type": "stream",
     "text": [
      "На 6.02 мин. уменьшилось среднее время доставки пиццы.\n",
      "Что составляет 13.35 %.\n",
      "И является статистически значимым результатом.\n"
     ]
    }
   ],
   "source": [
    "print('На', abs(round(data_test_gr.mean() - data_control_gr.mean(), 2)),\n",
    "      'мин. уменьшилось среднее время доставки пиццы.')\n",
    "print('Что составляет', abs(round((data_test_gr.mean() - data_control_gr.mean()) \\\n",
    "                                / data_control_gr.mean() * 100, 2)),\n",
    "      '%.\\nИ является статистически значимым результатом.')"
   ]
  },
  {
   "cell_type": "code",
   "execution_count": null,
   "id": "e5d6d591",
   "metadata": {},
   "outputs": [],
   "source": []
  }
 ],
 "metadata": {
  "kernelspec": {
   "display_name": "Python 3 (ipykernel)",
   "language": "python",
   "name": "python3"
  },
  "language_info": {
   "codemirror_mode": {
    "name": "ipython",
    "version": 3
   },
   "file_extension": ".py",
   "mimetype": "text/x-python",
   "name": "python",
   "nbconvert_exporter": "python",
   "pygments_lexer": "ipython3",
   "version": "3.9.13"
  }
 },
 "nbformat": 4,
 "nbformat_minor": 5
}
